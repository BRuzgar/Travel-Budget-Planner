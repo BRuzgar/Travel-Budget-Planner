{
 "cells": [
  {
   "cell_type": "markdown",
   "metadata": {},
   "source": [
    "** Travel Budget Planner:**\n",
    "\n",
    "Problem Statement: A travel agency wants a tool to plan the travel budget of their clients.\n",
    "\n",
    "Task: The program should create a travel budget taking into account expenses such as hotel, flight tickets, food and beverage, etc. according to the region the user will travel to.\n",
    "\n",
    "Solution: Write a program in Python and plan the user's travel budget."
   ]
  },
  {
   "cell_type": "code",
   "execution_count": 2,
   "metadata": {},
   "outputs": [
    {
     "name": "stdout",
     "output_type": "stream",
     "text": [
      "\n",
      "      Your Travel Budget:\n",
      "\n",
      "      ________________________\n",
      "\n",
      "      Target Region: Germany,\n",
      "\n",
      "      Hotel Cost: 5000.0,\n",
      "\n",
      "      Air Ticket Cost: 1000.0,\n",
      "\n",
      "      Special Costs: 1250.0,\n",
      "\n",
      "      Tootally Cost: 7250.0 $.\n",
      "      \n"
     ]
    }
   ],
   "source": [
    "target = input(\"Select the destination region: \")\n",
    "hotel_fee = float(input(\"Enter the cost of the hotel:\"))\n",
    "ticket_fee = float(input(\" Enter the cost of a plane ticket: \"))\n",
    "special_fees = float(input(\"Enter the cost of food and drink:\"))\n",
    "\n",
    "totally_fee = hotel_fee + ticket_fee + special_fees\n",
    "\n",
    "print(f\"\"\"\n",
    "      Your Travel Budget:\\n\n",
    "      ________________________\\n\n",
    "      Target Region: {target},\\n\n",
    "      Hotel Cost: {hotel_fee},\\n\n",
    "      Air Ticket Cost: {ticket_fee},\\n\n",
    "      Special Costs: {special_fees},\\n\n",
    "      Tootally Cost: {totally_fee} $.\n",
    "      \"\"\")"
   ]
  }
 ],
 "metadata": {
  "kernelspec": {
   "display_name": "Python 3",
   "language": "python",
   "name": "python3"
  },
  "language_info": {
   "codemirror_mode": {
    "name": "ipython",
    "version": 3
   },
   "file_extension": ".py",
   "mimetype": "text/x-python",
   "name": "python",
   "nbconvert_exporter": "python",
   "pygments_lexer": "ipython3",
   "version": "3.12.4"
  }
 },
 "nbformat": 4,
 "nbformat_minor": 2
}
